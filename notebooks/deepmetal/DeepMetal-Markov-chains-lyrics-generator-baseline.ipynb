{
 "cells": [
  {
   "cell_type": "markdown",
   "metadata": {},
   "source": [
    "# Text generation with Markov Chains (baseline)\n",
    "\n",
    "A Markov Chain is a stochastic model where the probability of each event depends only on the previous event. To put this relating to text generation, a word is only generated based on the previous word. This happens by combing through the entirity of the corpus and having a giant list of all of the words that have appeared directly after each unique word. A random word or character is chosen based on probability and so on, the text begins to generate.\n",
    "\n",
    "I chose this model as a baseline to beat for my GPT-2 based text generator."
   ]
  },
  {
   "cell_type": "code",
   "execution_count": 25,
   "metadata": {},
   "outputs": [],
   "source": [
    "import random\n",
    "import re\n",
    "import sys"
   ]
  },
  {
   "cell_type": "markdown",
   "metadata": {},
   "source": [
    "## Load text corpus"
   ]
  },
  {
   "cell_type": "code",
   "execution_count": 35,
   "metadata": {},
   "outputs": [],
   "source": [
    "with open('../datasets/lyrics_corpus.txt', 'r') as file:\n",
    "    metal_corpus = file.read()\n",
    "    metal_corpus = metal_corpus.replace('<|startoftext|>', '').replace('<|endoftext|>', '').split(' ')"
   ]
  },
  {
   "cell_type": "markdown",
   "metadata": {},
   "source": [
    "## Build chain"
   ]
  },
  {
   "cell_type": "code",
   "execution_count": 36,
   "metadata": {},
   "outputs": [],
   "source": [
    "def build_chain(corpus):\n",
    "    chain = {}\n",
    "    index = 1\n",
    "\n",
    "    for word in metal_corpus[index:]:\n",
    "        key = metal_corpus[index-1]\n",
    "        if key in chain:\n",
    "            chain[key].append(word)\n",
    "        else:\n",
    "            chain[key] = [word]\n",
    "\n",
    "        index += 1\n",
    "        \n",
    "    return chain"
   ]
  },
  {
   "cell_type": "code",
   "execution_count": 39,
   "metadata": {},
   "outputs": [],
   "source": [
    "chain = build_chain(metal_corpus)\n",
    "\n",
    "def generate_lyrics(word1, message, lyrics_length):\n",
    "    while len(message.split(' ')) < LYRICS_LENGTH:\n",
    "        word2 = random.choice(chain[word1])\n",
    "        word1 = word2\n",
    "        \n",
    "        message += ' ' + word2\n",
    "        message = re.sub(r'[ ]{2,}', \"\\n\", message)\n",
    "        message = message.replace(\". \", \".\\n\")\n",
    "        \n",
    "    return message"
   ]
  },
  {
   "cell_type": "code",
   "execution_count": 40,
   "metadata": {},
   "outputs": [
    {
     "name": "stdout",
     "output_type": "stream",
     "text": [
      "Feel\n",
      "ashamed to ages\n",
      "As rain will to recreate superiority\n",
      "To tear of semen and me?\n",
      "Just let me insane!\n",
      "\n",
      "Rotten - unite us\n",
      "The sky doesn't matter of my mind as new, don’t stop\n",
      "Bring 'em real\n",
      "I see is adding up a fervent duty was fine\n",
      "Once she said,\" In this is me, or priest, we are mine if my shield, a terrifying cries.\n",
      "A hat was the Hounds free, you want\n",
      "Is that he is we kidding? I know you, where angels descend\n",
      "\n",
      "Fallen angels raise my skin, open like you hypocrits\n",
      "Who speak to save yourself all my rope\n",
      "With no longer\n",
      "At all your dying to fade away\n",
      "From all life\n",
      "No more important\n",
      "Than your influence\n",
      "With a friend\n",
      "Still you now the dimensions\n",
      "Flying right in repression\n",
      "A paradigm of Mars\n",
      "'Neath a mate, daddy has come\n",
      "Under frozen lattices of Mankind, I dig the night\n",
      "We smash your soul\n",
      "\n",
      "Loneliness will be done\n",
      "I hope you darling\n",
      "I wanna fight\n",
      "Just to succeed\n",
      "And mark these three doctors\n",
      "Lying on your side...(if) Dreams aren't going on\n",
      "Her lovely life\n",
      "You won't shine on\n",
      "In my back,\n",
      "there's no one stride\n",
      "I see the sphere\n",
      "Four colors and Dust To Kill\n",
      "\n",
      "Trying To Be\n",
      "No Fault of light\n",
      "I looked in agony-\n",
      "the world won't be your life in our side\n",
      "We'll set on and shatter the flight to forget\n",
      "Sometimes your death is rent the\n"
     ]
    }
   ],
   "source": [
    "word1 = random.choice(list(chain.keys()))\n",
    "message = word1.capitalize()\n",
    "\n",
    "print(generate_lyrics(word1, message, lyrics_length=180))"
   ]
  },
  {
   "cell_type": "code",
   "execution_count": null,
   "metadata": {},
   "outputs": [],
   "source": []
  }
 ],
 "metadata": {
  "kernelspec": {
   "display_name": "Python 3",
   "language": "python",
   "name": "python3"
  },
  "language_info": {
   "codemirror_mode": {
    "name": "ipython",
    "version": 3
   },
   "file_extension": ".py",
   "mimetype": "text/x-python",
   "name": "python",
   "nbconvert_exporter": "python",
   "pygments_lexer": "ipython3",
   "version": "3.6.10"
  }
 },
 "nbformat": 4,
 "nbformat_minor": 4
}
