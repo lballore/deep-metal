{
 "cells": [
  {
   "cell_type": "code",
   "execution_count": 1,
   "metadata": {},
   "outputs": [
    {
     "name": "stdout",
     "output_type": "stream",
     "text": [
      "WARNING:tensorflow:\n",
      "The TensorFlow contrib module will not be included in TensorFlow 2.0.\n",
      "For more information, please see:\n",
      "  * https://github.com/tensorflow/community/blob/master/rfcs/20180907-contrib-sunset.md\n",
      "  * https://github.com/tensorflow/addons\n",
      "  * https://github.com/tensorflow/io (for I/O related ops)\n",
      "If you depend on functionality not listed there, please file an issue.\n",
      "\n"
     ]
    }
   ],
   "source": [
    "import gpt_2_simple as gpt2\n",
    "import pandas as pd\n",
    "import tensorflow as tf\n",
    "\n",
    "from tqdm import tqdm\n",
    "tqdm.pandas()"
   ]
  },
  {
   "cell_type": "code",
   "execution_count": 2,
   "metadata": {},
   "outputs": [
    {
     "name": "stdout",
     "output_type": "stream",
     "text": [
      "Number of songs: 195202\n"
     ]
    },
    {
     "data": {
      "text/html": [
       "<div>\n",
       "<style scoped>\n",
       "    .dataframe tbody tr th:only-of-type {\n",
       "        vertical-align: middle;\n",
       "    }\n",
       "\n",
       "    .dataframe tbody tr th {\n",
       "        vertical-align: top;\n",
       "    }\n",
       "\n",
       "    .dataframe thead th {\n",
       "        text-align: right;\n",
       "    }\n",
       "</style>\n",
       "<table border=\"1\" class=\"dataframe\">\n",
       "  <thead>\n",
       "    <tr style=\"text-align: right;\">\n",
       "      <th></th>\n",
       "      <th>artist</th>\n",
       "      <th>album</th>\n",
       "      <th>album_type</th>\n",
       "      <th>release_year</th>\n",
       "      <th>title</th>\n",
       "      <th>track_no</th>\n",
       "      <th>lyrics</th>\n",
       "      <th>lang_iso</th>\n",
       "      <th>lang_name</th>\n",
       "    </tr>\n",
       "  </thead>\n",
       "  <tbody>\n",
       "    <tr>\n",
       "      <th>101348</th>\n",
       "      <td>Kerion</td>\n",
       "      <td>Cloudriders Part 1: Road To Skycity</td>\n",
       "      <td>Studio</td>\n",
       "      <td>2012</td>\n",
       "      <td>The Sky Is My Ocean</td>\n",
       "      <td>5</td>\n",
       "      <td>Black curtain of the night\\nHas fallen on the ...</td>\n",
       "      <td>eng</td>\n",
       "      <td>English</td>\n",
       "    </tr>\n",
       "    <tr>\n",
       "      <th>93442</th>\n",
       "      <td>In Hearts Wake</td>\n",
       "      <td>Divination</td>\n",
       "      <td>Studio</td>\n",
       "      <td>2012</td>\n",
       "      <td>Departure (Death)</td>\n",
       "      <td>3</td>\n",
       "      <td>I will stand alone to the very end. I will sta...</td>\n",
       "      <td>eng</td>\n",
       "      <td>English</td>\n",
       "    </tr>\n",
       "    <tr>\n",
       "      <th>173457</th>\n",
       "      <td>Theatres Des Vampires</td>\n",
       "      <td>The Vampire Chronicles</td>\n",
       "      <td>Studio</td>\n",
       "      <td>1999</td>\n",
       "      <td>Thule</td>\n",
       "      <td>3</td>\n",
       "      <td>\"By a route obscure and lonely...haunted by il...</td>\n",
       "      <td>eng</td>\n",
       "      <td>English</td>\n",
       "    </tr>\n",
       "    <tr>\n",
       "      <th>142919</th>\n",
       "      <td>Putridity</td>\n",
       "      <td>Ignominious Atonement</td>\n",
       "      <td>Studio</td>\n",
       "      <td>2015</td>\n",
       "      <td>The Bone Sculpture</td>\n",
       "      <td>4</td>\n",
       "      <td>Swinging changes of endocranial hypertensions\\...</td>\n",
       "      <td>eng</td>\n",
       "      <td>English</td>\n",
       "    </tr>\n",
       "    <tr>\n",
       "      <th>128394</th>\n",
       "      <td>Nile</td>\n",
       "      <td>Festivals Of Atonement</td>\n",
       "      <td>EP</td>\n",
       "      <td>1995</td>\n",
       "      <td>Divine Intent</td>\n",
       "      <td>1</td>\n",
       "      <td>Rise in Slpender\\nArms upheld unto the Sky\\nBl...</td>\n",
       "      <td>eng</td>\n",
       "      <td>English</td>\n",
       "    </tr>\n",
       "    <tr>\n",
       "      <th>127799</th>\n",
       "      <td>Nightfall</td>\n",
       "      <td>Athenian Echoes</td>\n",
       "      <td>Studio</td>\n",
       "      <td>1995</td>\n",
       "      <td>Ishtar (Celebrate Your Beauty)</td>\n",
       "      <td>3</td>\n",
       "      <td>And I've reposed all my worries\\nonto thy perf...</td>\n",
       "      <td>eng</td>\n",
       "      <td>English</td>\n",
       "    </tr>\n",
       "    <tr>\n",
       "      <th>178160</th>\n",
       "      <td>Trap Them</td>\n",
       "      <td>Sleepwell Deconstructor</td>\n",
       "      <td>Studio</td>\n",
       "      <td>2007</td>\n",
       "      <td>Day Four: Collapse And Marathon</td>\n",
       "      <td>4</td>\n",
       "      <td>Saw the price tag you put on your eyes and ear...</td>\n",
       "      <td>eng</td>\n",
       "      <td>English</td>\n",
       "    </tr>\n",
       "    <tr>\n",
       "      <th>14909</th>\n",
       "      <td>As We Draw</td>\n",
       "      <td>Lines Breaking Circles</td>\n",
       "      <td>Studio</td>\n",
       "      <td>2010</td>\n",
       "      <td>Scum Of The Earth</td>\n",
       "      <td>9</td>\n",
       "      <td>He crossed the oceans, the seas, the mountains...</td>\n",
       "      <td>eng</td>\n",
       "      <td>English</td>\n",
       "    </tr>\n",
       "    <tr>\n",
       "      <th>39470</th>\n",
       "      <td>Conception</td>\n",
       "      <td>The Last Sunset</td>\n",
       "      <td>Studio</td>\n",
       "      <td>1991</td>\n",
       "      <td>Another World</td>\n",
       "      <td>6</td>\n",
       "      <td>Feeling scared, don't know why\\nEveryone are s...</td>\n",
       "      <td>eng</td>\n",
       "      <td>English</td>\n",
       "    </tr>\n",
       "    <tr>\n",
       "      <th>157350</th>\n",
       "      <td>Shamrain</td>\n",
       "      <td>Someplace Else</td>\n",
       "      <td>Studio</td>\n",
       "      <td>2005</td>\n",
       "      <td>A Woeful Song</td>\n",
       "      <td>7</td>\n",
       "      <td>One bleak moment\\nHeart ever aching\\nA plainti...</td>\n",
       "      <td>eng</td>\n",
       "      <td>English</td>\n",
       "    </tr>\n",
       "  </tbody>\n",
       "</table>\n",
       "</div>"
      ],
      "text/plain": [
       "                       artist                                album album_type  \\\n",
       "101348                 Kerion  Cloudriders Part 1: Road To Skycity     Studio   \n",
       "93442          In Hearts Wake                           Divination     Studio   \n",
       "173457  Theatres Des Vampires               The Vampire Chronicles     Studio   \n",
       "142919              Putridity                Ignominious Atonement     Studio   \n",
       "128394                   Nile               Festivals Of Atonement         EP   \n",
       "127799              Nightfall                      Athenian Echoes     Studio   \n",
       "178160              Trap Them              Sleepwell Deconstructor     Studio   \n",
       "14909              As We Draw               Lines Breaking Circles     Studio   \n",
       "39470              Conception                      The Last Sunset     Studio   \n",
       "157350               Shamrain                       Someplace Else     Studio   \n",
       "\n",
       "        release_year                            title  track_no  \\\n",
       "101348          2012              The Sky Is My Ocean         5   \n",
       "93442           2012                Departure (Death)         3   \n",
       "173457          1999                            Thule         3   \n",
       "142919          2015               The Bone Sculpture         4   \n",
       "128394          1995                    Divine Intent         1   \n",
       "127799          1995   Ishtar (Celebrate Your Beauty)         3   \n",
       "178160          2007  Day Four: Collapse And Marathon         4   \n",
       "14909           2010                Scum Of The Earth         9   \n",
       "39470           1991                    Another World         6   \n",
       "157350          2005                    A Woeful Song         7   \n",
       "\n",
       "                                                   lyrics lang_iso lang_name  \n",
       "101348  Black curtain of the night\\nHas fallen on the ...      eng   English  \n",
       "93442   I will stand alone to the very end. I will sta...      eng   English  \n",
       "173457  \"By a route obscure and lonely...haunted by il...      eng   English  \n",
       "142919  Swinging changes of endocranial hypertensions\\...      eng   English  \n",
       "128394  Rise in Slpender\\nArms upheld unto the Sky\\nBl...      eng   English  \n",
       "127799  And I've reposed all my worries\\nonto thy perf...      eng   English  \n",
       "178160  Saw the price tag you put on your eyes and ear...      eng   English  \n",
       "14909   He crossed the oceans, the seas, the mountains...      eng   English  \n",
       "39470   Feeling scared, don't know why\\nEveryone are s...      eng   English  \n",
       "157350  One bleak moment\\nHeart ever aching\\nA plainti...      eng   English  "
      ]
     },
     "execution_count": 2,
     "metadata": {},
     "output_type": "execute_result"
    }
   ],
   "source": [
    "metal_lyrics_df = pd.read_csv(\"../datasets/metal_dataset_clean_eng.csv\", sep=\"|\")\n",
    "\n",
    "print(f\"Number of songs: {len(metal_lyrics_df)}\")\n",
    "metal_lyrics_df.sample(10)"
   ]
  },
  {
   "cell_type": "code",
   "execution_count": 3,
   "metadata": {},
   "outputs": [
    {
     "name": "stderr",
     "output_type": "stream",
     "text": [
      "100%|██████████| 195202/195202 [00:25<00:00, 7805.07it/s]\n"
     ]
    }
   ],
   "source": [
    "lyrics_corpus = \"../datasets/lyrics_corpus.txt\"\n",
    "with open(lyrics_corpus, 'w') as out_file:\n",
    "    for index, row in tqdm(metal_lyrics_df.iterrows(), total=metal_lyrics_df.shape[0]):\n",
    "        out_file.write(\"<|startoftext|>\" + str(row[\"lyrics\"]).replace(\"\\\\n\", \"\\n\") + \"<|endoftext|>\" + \"\\n\")"
   ]
  },
  {
   "cell_type": "code",
   "execution_count": 5,
   "metadata": {},
   "outputs": [
    {
     "name": "stderr",
     "output_type": "stream",
     "text": [
      "Fetching checkpoint: 1.05Mit [00:00, 424Mit/s]                                                      \n",
      "Fetching encoder.json: 1.05Mit [00:00, 20.6Mit/s]                                                   \n",
      "Fetching hparams.json: 1.05Mit [00:00, 431Mit/s]                                                    \n",
      "Fetching model.ckpt.data-00000-of-00001: 1.42Git [00:54, 25.9Mit/s]                                 \n",
      "Fetching model.ckpt.index: 1.05Mit [00:00, 315Mit/s]                                                \n",
      "Fetching model.ckpt.meta: 1.05Mit [00:00, 20.8Mit/s]                                                \n",
      "Fetching vocab.bpe: 1.05Mit [00:00, 32.9Mit/s]                                                      \n"
     ]
    }
   ],
   "source": [
    "MODEL_DIR = '../models'\n",
    "MODEL_NAME = '355M'\n",
    "\n",
    "gpt2.download_gpt2(model_dir=MODEL_DIR, model_name=MODEL_NAME)"
   ]
  },
  {
   "cell_type": "code",
   "execution_count": 6,
   "metadata": {},
   "outputs": [
    {
     "name": "stderr",
     "output_type": "stream",
     "text": [
      "\r",
      "  0%|          | 0/1 [00:00<?, ?it/s]"
     ]
    },
    {
     "name": "stdout",
     "output_type": "stream",
     "text": [
      "Reading files\n"
     ]
    },
    {
     "name": "stderr",
     "output_type": "stream",
     "text": [
      "100%|██████████| 1/1 [05:25<00:00, 325.25s/it]\n"
     ]
    },
    {
     "name": "stdout",
     "output_type": "stream",
     "text": [
      "Writing ../datasets/lyrics_corpus_encoded.npz\n"
     ]
    }
   ],
   "source": [
    "gpt2.encode_dataset(\n",
    "    \"../datasets/lyrics_corpus.txt\", \n",
    "    model_dir=MODEL_DIR,\n",
    "    model_name=MODEL_NAME, \n",
    "    out_path=\"../datasets/lyrics_corpus_encoded.npz\"\n",
    ")"
   ]
  },
  {
   "cell_type": "code",
   "execution_count": null,
   "metadata": {},
   "outputs": [],
   "source": [
    "tf.reset_default_graph()\n",
    "sess = gpt2.start_tf_sess()\n",
    "gpt2.finetune(\n",
    "    sess,\n",
    "    dataset='../datasets/lyrics_corpus_encoded.npz',\n",
    "    model_dir=MODEL_DIR,\n",
    "    model_name=MODEL_NAME,\n",
    "    steps=1000,\n",
    "    restore_from='fresh',\n",
    "    run_name='run1',\n",
    "    print_every=10,\n",
    "    sample_every=200,\n",
    "    save_every=500\n",
    ")"
   ]
  },
  {
   "cell_type": "code",
   "execution_count": null,
   "metadata": {},
   "outputs": [],
   "source": []
  }
 ],
 "metadata": {
  "kernelspec": {
   "display_name": "Python 3",
   "language": "python",
   "name": "python3"
  },
  "language_info": {
   "codemirror_mode": {
    "name": "ipython",
    "version": 3
   },
   "file_extension": ".py",
   "mimetype": "text/x-python",
   "name": "python",
   "nbconvert_exporter": "python",
   "pygments_lexer": "ipython3",
   "version": "3.6.10"
  }
 },
 "nbformat": 4,
 "nbformat_minor": 2
}
