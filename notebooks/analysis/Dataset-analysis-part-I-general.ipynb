{
 "cells": [
  {
   "cell_type": "markdown",
   "metadata": {},
   "source": [
    "# Deep Metal\n",
    "## Putting heavy metal into data science\n",
    "\n",
    "### Part I - Dataset cleaning and first content analysis\n",
    "\n",
    "The notebook contains:\n",
    "\n",
    "- Examples of rows from a cleaned dataset;\n",
    "- Brief analysis of quantities (amount of artists, albums, album types, songs etc.) and simple statistics;\n",
    "- Brief analysis about album releases over the years and simple statistics about distribution;\n",
    "- Statistics about language distribution;\n",
    "- Bands popularity: statistics about the most represented bands in the dataset in terms of albums and songs;"
   ]
  },
  {
   "cell_type": "code",
   "execution_count": 1,
   "metadata": {},
   "outputs": [],
   "source": [
    "%load_ext autoreload\n",
    "%autoreload 2\n",
    "import matplotlib\n",
    "import numpy as np\n",
    "import pandas as pd\n",
    "import pycountry\n",
    "import scipy\n",
    "\n",
    "from IPython.display import display, HTML, Markdown\n",
    "from common.graphs import plot_pie_graph, plot_vertical_bars, plot_horizontal_bars, printmd"
   ]
  },
  {
   "cell_type": "markdown",
   "metadata": {},
   "source": [
    "## Dataset\n",
    "\n",
    "Dataset imported from DarkLyrics.com through the `metalparser` library and cleaned up.\n",
    "The dataset has been cleaned according to the `clean_dataset.py` script:\n",
    "- deduplication of songs by same artist and album (happens when the crawler retrieved remasters of the same albums, or live albums);\n",
    "- songs having no text at all (excluding those labeled as \"Instrumental\") has been removed;\n",
    "- album types having similar label has been normalized in a unique corresponding label;\n",
    "- lyrics has been sanitized (max 2 consecutive newline chars, space trimming, removed tags between squared brackets).\n",
    "\n",
    "Every row in the dataset corresponds to a song ang contains the following informations:\n",
    "\n",
    "- Artist;\n",
    "- Album;\n",
    "- Album type;\n",
    "- Release year;\n",
    "- Song title;\n",
    "- Track number on the album;\n",
    "- Lyrics text (where available);\n",
    "- Info about the language (ISO 639-3 code and name)"
   ]
  },
  {
   "cell_type": "code",
   "execution_count": 2,
   "metadata": {},
   "outputs": [
    {
     "data": {
      "text/html": [
       "<div>\n",
       "<style scoped>\n",
       "    .dataframe tbody tr th:only-of-type {\n",
       "        vertical-align: middle;\n",
       "    }\n",
       "\n",
       "    .dataframe tbody tr th {\n",
       "        vertical-align: top;\n",
       "    }\n",
       "\n",
       "    .dataframe thead th {\n",
       "        text-align: right;\n",
       "    }\n",
       "</style>\n",
       "<table border=\"1\" class=\"dataframe\">\n",
       "  <thead>\n",
       "    <tr style=\"text-align: right;\">\n",
       "      <th></th>\n",
       "      <th>artist</th>\n",
       "      <th>album</th>\n",
       "      <th>album_type</th>\n",
       "      <th>release_year</th>\n",
       "      <th>title</th>\n",
       "      <th>track_no</th>\n",
       "      <th>lyrics</th>\n",
       "      <th>lang_iso</th>\n",
       "      <th>lang_name</th>\n",
       "    </tr>\n",
       "  </thead>\n",
       "  <tbody>\n",
       "    <tr>\n",
       "      <td>86644</td>\n",
       "      <td>Forevermore</td>\n",
       "      <td>Sojourner</td>\n",
       "      <td>Studio</td>\n",
       "      <td>2012</td>\n",
       "      <td>Artifice</td>\n",
       "      <td>3</td>\n",
       "      <td>Look at me\\nI am the quintessential believer\\n...</td>\n",
       "      <td>eng</td>\n",
       "      <td>English</td>\n",
       "    </tr>\n",
       "    <tr>\n",
       "      <td>162058</td>\n",
       "      <td>Pathology</td>\n",
       "      <td>The Time Of Great Purification</td>\n",
       "      <td>Studio</td>\n",
       "      <td>2012</td>\n",
       "      <td>The Everlasting Plague</td>\n",
       "      <td>13</td>\n",
       "      <td>2012 The end of days to come,\\nThe earth will ...</td>\n",
       "      <td>eng</td>\n",
       "      <td>English</td>\n",
       "    </tr>\n",
       "    <tr>\n",
       "      <td>202498</td>\n",
       "      <td>Tarot</td>\n",
       "      <td>For The Glory Of Nothing</td>\n",
       "      <td>Studio</td>\n",
       "      <td>1998</td>\n",
       "      <td>The Scourger</td>\n",
       "      <td>7</td>\n",
       "      <td>I've seen the marvesl of the molten fles\\nI've...</td>\n",
       "      <td>eng</td>\n",
       "      <td>English</td>\n",
       "    </tr>\n",
       "    <tr>\n",
       "      <td>101225</td>\n",
       "      <td>Helloween</td>\n",
       "      <td>The Time Of The Oath</td>\n",
       "      <td>Studio</td>\n",
       "      <td>1996</td>\n",
       "      <td>Before The War</td>\n",
       "      <td>6</td>\n",
       "      <td>Come take a look up to the constellations\\nTak...</td>\n",
       "      <td>eng</td>\n",
       "      <td>English</td>\n",
       "    </tr>\n",
       "    <tr>\n",
       "      <td>57348</td>\n",
       "      <td>Death Angel</td>\n",
       "      <td>The Evil Divide</td>\n",
       "      <td>Studio</td>\n",
       "      <td>2016</td>\n",
       "      <td>Hell To Pay</td>\n",
       "      <td>5</td>\n",
       "      <td>You've gained my trust, and friendship\\nAnd th...</td>\n",
       "      <td>eng</td>\n",
       "      <td>English</td>\n",
       "    </tr>\n",
       "    <tr>\n",
       "      <td>211680</td>\n",
       "      <td>Tunrida</td>\n",
       "      <td>Era 2001</td>\n",
       "      <td>Studio</td>\n",
       "      <td>2001</td>\n",
       "      <td>Countdown To Doomsday</td>\n",
       "      <td>1</td>\n",
       "      <td>Ten\\n\"H\" is the letter\\nIt won't get any bette...</td>\n",
       "      <td>eng</td>\n",
       "      <td>English</td>\n",
       "    </tr>\n",
       "    <tr>\n",
       "      <td>102178</td>\n",
       "      <td>Hexx</td>\n",
       "      <td>No Escape</td>\n",
       "      <td>Studio</td>\n",
       "      <td>1984</td>\n",
       "      <td>Night Of Pain</td>\n",
       "      <td>6</td>\n",
       "      <td>(oooh… she’s hot!!)\\nLast night I was feeling ...</td>\n",
       "      <td>eng</td>\n",
       "      <td>English</td>\n",
       "    </tr>\n",
       "    <tr>\n",
       "      <td>63762</td>\n",
       "      <td>Diabolical Breed</td>\n",
       "      <td>Dark Alliance</td>\n",
       "      <td>Demo</td>\n",
       "      <td>2000</td>\n",
       "      <td>Woods Of Thorn</td>\n",
       "      <td>1</td>\n",
       "      <td>Beyond the green woods of elves where the clou...</td>\n",
       "      <td>eng</td>\n",
       "      <td>English</td>\n",
       "    </tr>\n",
       "    <tr>\n",
       "      <td>169027</td>\n",
       "      <td>Queensryche</td>\n",
       "      <td>Live Evolution</td>\n",
       "      <td>Studio</td>\n",
       "      <td>2001</td>\n",
       "      <td>The Right Side Of My Mind</td>\n",
       "      <td>30</td>\n",
       "      <td>Hey, are you okay? Better luck on another day....</td>\n",
       "      <td>eng</td>\n",
       "      <td>English</td>\n",
       "    </tr>\n",
       "    <tr>\n",
       "      <td>14428</td>\n",
       "      <td>Anubis Gate</td>\n",
       "      <td>Covered In Black</td>\n",
       "      <td>Studio</td>\n",
       "      <td>2017</td>\n",
       "      <td>Psychotopia</td>\n",
       "      <td>1</td>\n",
       "      <td>I don't believe\\nI ordered this kind\\nOf evacu...</td>\n",
       "      <td>eng</td>\n",
       "      <td>English</td>\n",
       "    </tr>\n",
       "  </tbody>\n",
       "</table>\n",
       "</div>"
      ],
      "text/plain": [
       "                  artist                           album album_type  \\\n",
       "86644        Forevermore                       Sojourner     Studio   \n",
       "162058         Pathology  The Time Of Great Purification     Studio   \n",
       "202498             Tarot        For The Glory Of Nothing     Studio   \n",
       "101225         Helloween            The Time Of The Oath     Studio   \n",
       "57348        Death Angel                 The Evil Divide     Studio   \n",
       "211680           Tunrida                        Era 2001     Studio   \n",
       "102178              Hexx                       No Escape     Studio   \n",
       "63762   Diabolical Breed                   Dark Alliance       Demo   \n",
       "169027       Queensryche                  Live Evolution     Studio   \n",
       "14428        Anubis Gate                Covered In Black     Studio   \n",
       "\n",
       "        release_year                      title  track_no  \\\n",
       "86644           2012                   Artifice         3   \n",
       "162058          2012     The Everlasting Plague        13   \n",
       "202498          1998               The Scourger         7   \n",
       "101225          1996             Before The War         6   \n",
       "57348           2016                Hell To Pay         5   \n",
       "211680          2001      Countdown To Doomsday         1   \n",
       "102178          1984              Night Of Pain         6   \n",
       "63762           2000             Woods Of Thorn         1   \n",
       "169027          2001  The Right Side Of My Mind        30   \n",
       "14428           2017                Psychotopia         1   \n",
       "\n",
       "                                                   lyrics lang_iso lang_name  \n",
       "86644   Look at me\\nI am the quintessential believer\\n...      eng   English  \n",
       "162058  2012 The end of days to come,\\nThe earth will ...      eng   English  \n",
       "202498  I've seen the marvesl of the molten fles\\nI've...      eng   English  \n",
       "101225  Come take a look up to the constellations\\nTak...      eng   English  \n",
       "57348   You've gained my trust, and friendship\\nAnd th...      eng   English  \n",
       "211680  Ten\\n\"H\" is the letter\\nIt won't get any bette...      eng   English  \n",
       "102178  (oooh… she’s hot!!)\\nLast night I was feeling ...      eng   English  \n",
       "63762   Beyond the green woods of elves where the clou...      eng   English  \n",
       "169027  Hey, are you okay? Better luck on another day....      eng   English  \n",
       "14428   I don't believe\\nI ordered this kind\\nOf evacu...      eng   English  "
      ]
     },
     "execution_count": 2,
     "metadata": {},
     "output_type": "execute_result"
    }
   ],
   "source": [
    "dataset_df = pd.read_csv('../datasets/metal_dataset_clean_lang.csv', encoding='utf-8', sep='|')\n",
    "\n",
    "dataset_df.sample(n=10, random_state=100)"
   ]
  },
  {
   "cell_type": "markdown",
   "metadata": {},
   "source": [
    "## Quantities: about artists, albums and songs\n",
    "\n",
    "A brief analysis of dataset contents, reporting information about:\n",
    "\n",
    "- Amount of artists, albums and songs, with some averages;\n",
    "- Simple statistics about song types and album types;\n",
    "- Distribution of the albums over the years, with simple statistics;"
   ]
  },
  {
   "cell_type": "code",
   "execution_count": 3,
   "metadata": {},
   "outputs": [
    {
     "data": {
      "text/markdown": [
       "**SONGS:** 230376"
      ],
      "text/plain": [
       "<IPython.core.display.Markdown object>"
      ]
     },
     "metadata": {},
     "output_type": "display_data"
    },
    {
     "data": {
      "text/markdown": [
       "**ALBUMS:** 30730"
      ],
      "text/plain": [
       "<IPython.core.display.Markdown object>"
      ]
     },
     "metadata": {},
     "output_type": "display_data"
    },
    {
     "data": {
      "text/markdown": [
       "**ARTISTS:** 8202"
      ],
      "text/plain": [
       "<IPython.core.display.Markdown object>"
      ]
     },
     "metadata": {},
     "output_type": "display_data"
    },
    {
     "data": {
      "text/markdown": [
       "---"
      ],
      "text/plain": [
       "<IPython.core.display.Markdown object>"
      ]
     },
     "metadata": {},
     "output_type": "display_data"
    },
    {
     "data": {
      "text/markdown": [
       "**AVERAGE NUMBER OF ALBUMS PER ARTIST:** 3.75"
      ],
      "text/plain": [
       "<IPython.core.display.Markdown object>"
      ]
     },
     "metadata": {},
     "output_type": "display_data"
    },
    {
     "data": {
      "text/markdown": [
       "**AVERAGE NUMBER OF SONGS PER ALBUM:** 7.5"
      ],
      "text/plain": [
       "<IPython.core.display.Markdown object>"
      ]
     },
     "metadata": {},
     "output_type": "display_data"
    },
    {
     "data": {
      "text/markdown": [
       "**AVERAGE NUMBER OF SONGS PER ARTIST:** 28.09"
      ],
      "text/plain": [
       "<IPython.core.display.Markdown object>"
      ]
     },
     "metadata": {},
     "output_type": "display_data"
    }
   ],
   "source": [
    "songs_number = len(dataset_df)\n",
    "albums_number = len(np.unique(dataset_df[['artist', 'album']].values))\n",
    "artists_number = len(dataset_df.artist.unique())\n",
    "\n",
    "printmd(f\"**SONGS:** {songs_number}\")\n",
    "printmd(f\"**ALBUMS:** {albums_number}\")\n",
    "printmd(f\"**ARTISTS:** {artists_number}\")\n",
    "printmd(\"---\")\n",
    "printmd(f\"**AVERAGE NUMBER OF ALBUMS PER ARTIST:** {round(albums_number / artists_number, 2)}\")\n",
    "printmd(f\"**AVERAGE NUMBER OF SONGS PER ALBUM:** {round(songs_number / albums_number, 2)}\")\n",
    "printmd(f\"**AVERAGE NUMBER OF SONGS PER ARTIST:** {round(songs_number / artists_number, 2)}\")"
   ]
  },
  {
   "cell_type": "markdown",
   "metadata": {},
   "source": [
    "### Song types"
   ]
  },
  {
   "cell_type": "code",
   "execution_count": 4,
   "metadata": {},
   "outputs": [
    {
     "data": {
      "text/html": [
       "<table border=\"1\" class=\"dataframe\">\n",
       "  <thead>\n",
       "    <tr style=\"text-align: right;\">\n",
       "      <th></th>\n",
       "      <th>songs_type</th>\n",
       "      <th>count</th>\n",
       "    </tr>\n",
       "  </thead>\n",
       "  <tbody>\n",
       "    <tr>\n",
       "      <th>0</th>\n",
       "      <td>Songs with lyrics</td>\n",
       "      <td>216979</td>\n",
       "    </tr>\n",
       "    <tr>\n",
       "      <th>1</th>\n",
       "      <td>Instrumental songs</td>\n",
       "      <td>13397</td>\n",
       "    </tr>\n",
       "  </tbody>\n",
       "</table>"
      ],
      "text/plain": [
       "<IPython.core.display.HTML object>"
      ]
     },
     "metadata": {},
     "output_type": "display_data"
    },
    {
     "data": {
      "image/png": "[encoded data removed]",
      "text/plain": [
       "<Figure size 288x288 with 1 Axes>"
      ]
     },
     "metadata": {},
     "output_type": "display_data"
    }
   ],
   "source": [
    "songs_with_lyrics = len(dataset_df.loc[dataset_df[\"lyrics\"] != 'Instrumental', 'lyrics'])\n",
    "instrumental_songs = len(dataset_df.loc[dataset_df[\"lyrics\"] == 'Instrumental', 'lyrics'])\n",
    "songs_type_df = pd.DataFrame({\n",
    "    'songs_type': ['Songs with lyrics', 'Instrumental songs'],\n",
    "    'count': [songs_with_lyrics, instrumental_songs]\n",
    "})\n",
    "\n",
    "display(HTML(songs_type_df.to_html()))\n",
    "\n",
    "plot_pie_graph(\n",
    "    x=songs_type_df['songs_type'],\n",
    "    y=songs_type_df['count'],\n",
    "    title='Distribution of songs types',\n",
    "    figsize=(4, 4), \n",
    "    labels=list(songs_type_df['songs_type']), \n",
    "    labeldistance=0,\n",
    "    pctdistance=0.5,\n",
    "    shadow=True\n",
    ")"
   ]
  },
  {
   "cell_type": "markdown",
   "metadata": {},
   "source": [
    "### Album types"
   ]
  },
  {
   "cell_type": "code",
   "execution_count": 5,
   "metadata": {},
   "outputs": [
    {
     "data": {
      "text/html": [
       "<table border=\"1\" class=\"dataframe\">\n",
       "  <thead>\n",
       "    <tr style=\"text-align: right;\">\n",
       "      <th></th>\n",
       "      <th>album_type</th>\n",
       "      <th>count</th>\n",
       "    </tr>\n",
       "  </thead>\n",
       "  <tbody>\n",
       "    <tr>\n",
       "      <th>0</th>\n",
       "      <td>Studio</td>\n",
       "      <td>213536</td>\n",
       "    </tr>\n",
       "    <tr>\n",
       "      <th>1</th>\n",
       "      <td>EP</td>\n",
       "      <td>12729</td>\n",
       "    </tr>\n",
       "    <tr>\n",
       "      <th>2</th>\n",
       "      <td>Demo</td>\n",
       "      <td>3958</td>\n",
       "    </tr>\n",
       "    <tr>\n",
       "      <th>4</th>\n",
       "      <td>Live</td>\n",
       "      <td>81</td>\n",
       "    </tr>\n",
       "    <tr>\n",
       "      <th>3</th>\n",
       "      <td>Compilation</td>\n",
       "      <td>71</td>\n",
       "    </tr>\n",
       "    <tr>\n",
       "      <th>5</th>\n",
       "      <td>Collaboration</td>\n",
       "      <td>1</td>\n",
       "    </tr>\n",
       "  </tbody>\n",
       "</table>"
      ],
      "text/plain": [
       "<IPython.core.display.HTML object>"
      ]
     },
     "metadata": {},
     "output_type": "display_data"
    },
    {
     "data": {
      "image/png": "[encoded data removed]",
      "text/plain": [
       "<Figure size 288x288 with 1 Axes>"
      ]
     },
     "metadata": {},
     "output_type": "display_data"
    }
   ],
   "source": [
    "album_type_dist = dataset_df.groupby('album_type', sort=False)['album_type'] \\\n",
    "                       .count().reset_index(name='count').sort_values(['count'], ascending=False)\n",
    "display(HTML(album_type_dist.to_html()))\n",
    "\n",
    "plot_pie_graph(\n",
    "    x=album_type_dist[:3]['album_type'],\n",
    "    y=album_type_dist[:3]['count'],\n",
    "    title='Top 3 album type distribution on DarkLyrics.com',\n",
    "    figsize=(4, 4), \n",
    "    labels=list(album_type_dist['album_type']), \n",
    "    labeldistance=0,\n",
    "    pctdistance=0.5\n",
    ")"
   ]
  },
  {
   "cell_type": "markdown",
   "metadata": {},
   "source": [
    "## Quantities: about time\n",
    "\n",
    "Simple statistics about albums distribution over the years:\n",
    "\n",
    "- Oldest and newest album;\n",
    "- Most and less prolific 5 years and distribution graph;"
   ]
  },
  {
   "cell_type": "markdown",
   "metadata": {},
   "source": [
    "### Oldest and newest"
   ]
  },
  {
   "cell_type": "code",
   "execution_count": 6,
   "metadata": {},
   "outputs": [
    {
     "data": {
      "text/markdown": [
       "**Albums and songs in the dataset has been released through 52 years (1968 - 2020)**"
      ],
      "text/plain": [
       "<IPython.core.display.Markdown object>"
      ]
     },
     "metadata": {},
     "output_type": "display_data"
    },
    {
     "data": {
      "text/markdown": [
       "---"
      ],
      "text/plain": [
       "<IPython.core.display.Markdown object>"
      ]
     },
     "metadata": {},
     "output_type": "display_data"
    },
    {
     "data": {
      "text/markdown": [
       "**OLDEST ALBUM:**"
      ],
      "text/plain": [
       "<IPython.core.display.Markdown object>"
      ]
     },
     "metadata": {},
     "output_type": "display_data"
    },
    {
     "data": {
      "text/html": [
       "<table border=\"1\" class=\"dataframe\">\n",
       "  <thead>\n",
       "    <tr style=\"text-align: right;\">\n",
       "      <th></th>\n",
       "      <th>album</th>\n",
       "      <th>release_year</th>\n",
       "      <th>artist</th>\n",
       "      <th>album_type</th>\n",
       "    </tr>\n",
       "  </thead>\n",
       "  <tbody>\n",
       "    <tr>\n",
       "      <th>0</th>\n",
       "      <td>Vincebus Eruptum</td>\n",
       "      <td>1968</td>\n",
       "      <td>Blue Cheer</td>\n",
       "      <td>Studio</td>\n",
       "    </tr>\n",
       "  </tbody>\n",
       "</table>"
      ],
      "text/plain": [
       "<IPython.core.display.HTML object>"
      ]
     },
     "metadata": {},
     "output_type": "display_data"
    },
    {
     "data": {
      "text/markdown": [
       "**NEWEST ALBUM:**"
      ],
      "text/plain": [
       "<IPython.core.display.Markdown object>"
      ]
     },
     "metadata": {},
     "output_type": "display_data"
    },
    {
     "data": {
      "text/html": [
       "<table border=\"1\" class=\"dataframe\">\n",
       "  <thead>\n",
       "    <tr style=\"text-align: right;\">\n",
       "      <th></th>\n",
       "      <th>album</th>\n",
       "      <th>release_year</th>\n",
       "      <th>artist</th>\n",
       "      <th>album_type</th>\n",
       "    </tr>\n",
       "  </thead>\n",
       "  <tbody>\n",
       "    <tr>\n",
       "      <th>0</th>\n",
       "      <td>Cosmic Terror</td>\n",
       "      <td>2020</td>\n",
       "      <td>The Spirit</td>\n",
       "      <td>Studio</td>\n",
       "    </tr>\n",
       "  </tbody>\n",
       "</table>"
      ],
      "text/plain": [
       "<IPython.core.display.HTML object>"
      ]
     },
     "metadata": {},
     "output_type": "display_data"
    }
   ],
   "source": [
    "release_years = sorted(list(dataset_df.release_year.unique()))\n",
    "oldest_albums = dataset_df.loc[\n",
    "    dataset_df[\"release_year\"] == release_years[0], \n",
    "    ['release_year', 'artist', 'album', 'album_type']\n",
    "].reset_index().groupby('album').first().reset_index().drop(columns=['index'])\n",
    "newest_albums = dataset_df.loc[\n",
    "    dataset_df[\"release_year\"] == release_years[-1], \n",
    "    ['release_year', 'artist', 'album', 'album_type']\n",
    "].reset_index().groupby('album').first().reset_index().drop(columns=['index'])\n",
    "\n",
    "printmd(f\"**Albums and songs in the dataset has been released through {release_years[-1] - release_years[0]} years ({release_years[0]} - {release_years[-1]})**\")\n",
    "printmd(\"---\")\n",
    "printmd(\"**OLDEST ALBUM:**\")\n",
    "display(HTML(oldest_albums.to_html()))\n",
    "printmd(\"**NEWEST ALBUM:**\")\n",
    "display(HTML(newest_albums.to_html()))"
   ]
  },
  {
   "cell_type": "markdown",
   "metadata": {},
   "source": [
    "### Albums distribution over the years"
   ]
  },
  {
   "cell_type": "code",
   "execution_count": 7,
   "metadata": {},
   "outputs": [
    {
     "data": {
      "text/markdown": [
       "**MOST PROLIFIC 5 YEARS**"
      ],
      "text/plain": [
       "<IPython.core.display.Markdown object>"
      ]
     },
     "metadata": {},
     "output_type": "display_data"
    },
    {
     "data": {
      "text/html": [
       "<table border=\"1\" class=\"dataframe\">\n",
       "  <thead>\n",
       "    <tr style=\"text-align: right;\">\n",
       "      <th></th>\n",
       "      <th>release_year</th>\n",
       "      <th>count</th>\n",
       "    </tr>\n",
       "  </thead>\n",
       "  <tbody>\n",
       "    <tr>\n",
       "      <th>43</th>\n",
       "      <td>2011</td>\n",
       "      <td>1450</td>\n",
       "    </tr>\n",
       "    <tr>\n",
       "      <th>44</th>\n",
       "      <td>2012</td>\n",
       "      <td>1304</td>\n",
       "    </tr>\n",
       "    <tr>\n",
       "      <th>42</th>\n",
       "      <td>2010</td>\n",
       "      <td>1269</td>\n",
       "    </tr>\n",
       "    <tr>\n",
       "      <th>45</th>\n",
       "      <td>2013</td>\n",
       "      <td>1265</td>\n",
       "    </tr>\n",
       "    <tr>\n",
       "      <th>37</th>\n",
       "      <td>2005</td>\n",
       "      <td>1214</td>\n",
       "    </tr>\n",
       "  </tbody>\n",
       "</table>"
      ],
      "text/plain": [
       "<IPython.core.display.HTML object>"
      ]
     },
     "metadata": {},
     "output_type": "display_data"
    },
    {
     "data": {
      "text/markdown": [
       "**LESS PROLIFIC 5 YEARS**"
      ],
      "text/plain": [
       "<IPython.core.display.Markdown object>"
      ]
     },
     "metadata": {},
     "output_type": "display_data"
    },
    {
     "data": {
      "text/html": [
       "<table border=\"1\" class=\"dataframe\">\n",
       "  <thead>\n",
       "    <tr style=\"text-align: right;\">\n",
       "      <th></th>\n",
       "      <th>release_year</th>\n",
       "      <th>count</th>\n",
       "    </tr>\n",
       "  </thead>\n",
       "  <tbody>\n",
       "    <tr>\n",
       "      <th>6</th>\n",
       "      <td>1974</td>\n",
       "      <td>3</td>\n",
       "    </tr>\n",
       "    <tr>\n",
       "      <th>2</th>\n",
       "      <td>1970</td>\n",
       "      <td>3</td>\n",
       "    </tr>\n",
       "    <tr>\n",
       "      <th>1</th>\n",
       "      <td>1969</td>\n",
       "      <td>2</td>\n",
       "    </tr>\n",
       "    <tr>\n",
       "      <th>0</th>\n",
       "      <td>1968</td>\n",
       "      <td>1</td>\n",
       "    </tr>\n",
       "    <tr>\n",
       "      <th>52</th>\n",
       "      <td>2020</td>\n",
       "      <td>1</td>\n",
       "    </tr>\n",
       "  </tbody>\n",
       "</table>"
      ],
      "text/plain": [
       "<IPython.core.display.HTML object>"
      ]
     },
     "metadata": {},
     "output_type": "display_data"
    },
    {
     "data": {
      "image/png": "[encoded data removed]",
      "text/plain": [
       "<Figure size 1440x1080 with 1 Axes>"
      ]
     },
     "metadata": {
      "needs_background": "light"
     },
     "output_type": "display_data"
    }
   ],
   "source": [
    "albums_dist = dataset_df.groupby(['release_year', 'album', 'artist', 'album_type']).first().reset_index()\n",
    "albums_year_dist = albums_dist.groupby('release_year', sort=False)['release_year'].count() \\\n",
    "        .reset_index(name='count').sort_values(['release_year'], ascending=True)\n",
    "\n",
    "\n",
    "printmd(f'**MOST PROLIFIC 5 YEARS**')\n",
    "display(HTML(albums_year_dist.sort_values(['count'], ascending=False).head(n=5).to_html()))\n",
    "\n",
    "printmd(f'**LESS PROLIFIC 5 YEARS**')\n",
    "display(HTML(albums_year_dist.sort_values(['count'], ascending=False).tail(n=5).to_html()))\n",
    "\n",
    "plot_vertical_bars(\n",
    "    albums_year_dist, \n",
    "    x='release_year',\n",
    "    xlabel='Release year',\n",
    "    y='count',\n",
    "    ylabel='No. albums released',\n",
    "    figsize=(20, 15), \n",
    "    title='Distribution of heavy metal albums through years on DarkLyrics.com',\n",
    "    display_values=True\n",
    ")\n",
    "\n"
   ]
  },
  {
   "cell_type": "markdown",
   "metadata": {},
   "source": [
    "## Quantities: about language\n",
    "\n",
    "Lyrics language distribution on the dataset. Surprisingly, or maybe not, there is also a dead language on the top 20, which is latin. Mostly used for songs with obscure athmospheres (latin lyrics are mostly requiem prayers or invocations to Satan :D )"
   ]
  },
  {
   "cell_type": "code",
   "execution_count": 8,
   "metadata": {},
   "outputs": [
    {
     "data": {
      "text/html": [
       "<table border=\"1\" class=\"dataframe\">\n",
       "  <thead>\n",
       "    <tr style=\"text-align: right;\">\n",
       "      <th></th>\n",
       "      <th>lang_iso</th>\n",
       "      <th>lang_name</th>\n",
       "      <th>count</th>\n",
       "    </tr>\n",
       "  </thead>\n",
       "  <tbody>\n",
       "    <tr>\n",
       "      <th>0</th>\n",
       "      <td>eng</td>\n",
       "      <td>English</td>\n",
       "      <td>195156</td>\n",
       "    </tr>\n",
       "    <tr>\n",
       "      <th>1</th>\n",
       "      <td>deu</td>\n",
       "      <td>German</td>\n",
       "      <td>5699</td>\n",
       "    </tr>\n",
       "    <tr>\n",
       "      <th>2</th>\n",
       "      <td>spa</td>\n",
       "      <td>Spanish</td>\n",
       "      <td>5003</td>\n",
       "    </tr>\n",
       "    <tr>\n",
       "      <th>3</th>\n",
       "      <td>fin</td>\n",
       "      <td>Finnish</td>\n",
       "      <td>1806</td>\n",
       "    </tr>\n",
       "    <tr>\n",
       "      <th>4</th>\n",
       "      <td>fra</td>\n",
       "      <td>French</td>\n",
       "      <td>1360</td>\n",
       "    </tr>\n",
       "    <tr>\n",
       "      <th>5</th>\n",
       "      <td>swe</td>\n",
       "      <td>Swedish</td>\n",
       "      <td>1147</td>\n",
       "    </tr>\n",
       "    <tr>\n",
       "      <th>6</th>\n",
       "      <td>nor</td>\n",
       "      <td>Norwegian</td>\n",
       "      <td>954</td>\n",
       "    </tr>\n",
       "    <tr>\n",
       "      <th>7</th>\n",
       "      <td>pol</td>\n",
       "      <td>Polish</td>\n",
       "      <td>863</td>\n",
       "    </tr>\n",
       "    <tr>\n",
       "      <th>8</th>\n",
       "      <td>rus</td>\n",
       "      <td>Russian</td>\n",
       "      <td>680</td>\n",
       "    </tr>\n",
       "    <tr>\n",
       "      <th>9</th>\n",
       "      <td>hun</td>\n",
       "      <td>Hungarian</td>\n",
       "      <td>602</td>\n",
       "    </tr>\n",
       "    <tr>\n",
       "      <th>10</th>\n",
       "      <td>ita</td>\n",
       "      <td>Italian</td>\n",
       "      <td>503</td>\n",
       "    </tr>\n",
       "    <tr>\n",
       "      <th>11</th>\n",
       "      <td>ces</td>\n",
       "      <td>Czech</td>\n",
       "      <td>437</td>\n",
       "    </tr>\n",
       "    <tr>\n",
       "      <th>12</th>\n",
       "      <td>por</td>\n",
       "      <td>Portuguese</td>\n",
       "      <td>395</td>\n",
       "    </tr>\n",
       "    <tr>\n",
       "      <th>13</th>\n",
       "      <td>dan</td>\n",
       "      <td>Danish</td>\n",
       "      <td>282</td>\n",
       "    </tr>\n",
       "    <tr>\n",
       "      <th>14</th>\n",
       "      <td>ind</td>\n",
       "      <td>Indonesian</td>\n",
       "      <td>267</td>\n",
       "    </tr>\n",
       "    <tr>\n",
       "      <th>15</th>\n",
       "      <td>hrv</td>\n",
       "      <td>Croatian</td>\n",
       "      <td>252</td>\n",
       "    </tr>\n",
       "    <tr>\n",
       "      <th>16</th>\n",
       "      <td>nld</td>\n",
       "      <td>Dutch</td>\n",
       "      <td>237</td>\n",
       "    </tr>\n",
       "    <tr>\n",
       "      <th>17</th>\n",
       "      <td>ron</td>\n",
       "      <td>Romanian</td>\n",
       "      <td>212</td>\n",
       "    </tr>\n",
       "    <tr>\n",
       "      <th>18</th>\n",
       "      <td>jpn</td>\n",
       "      <td>Japanese</td>\n",
       "      <td>130</td>\n",
       "    </tr>\n",
       "    <tr>\n",
       "      <th>19</th>\n",
       "      <td>lat</td>\n",
       "      <td>Latin</td>\n",
       "      <td>116</td>\n",
       "    </tr>\n",
       "  </tbody>\n",
       "</table>"
      ],
      "text/plain": [
       "<IPython.core.display.HTML object>"
      ]
     },
     "metadata": {},
     "output_type": "display_data"
    },
    {
     "data": {
      "image/png": "[encoded data removed]",
      "text/plain": [
       "<Figure size 576x576 with 1 Axes>"
      ]
     },
     "metadata": {},
     "output_type": "display_data"
    }
   ],
   "source": [
    "songs_with_defined_lang = dataset_df[dataset_df.lang_iso.str.lower() != 'undefined']\n",
    "songs_with_undefined_lang = dataset_df[dataset_df.lang_iso.str.lower() == 'undefined']\n",
    "\n",
    "lang_dist = songs_with_defined_lang.groupby(['lang_iso', 'lang_name'], sort=False)['lang_iso'].count() \\\n",
    "        .reset_index(name='count').sort_values(['count'], ascending=False)\n",
    "\n",
    "lang_dist_table = lang_dist[:20][['lang_iso', 'lang_name', 'count']].reset_index().drop(columns=['index'])\n",
    "display(HTML(lang_dist_table.to_html()))\n",
    "\n",
    "\n",
    "lang_dist_graph = pd.concat([\n",
    "    lang_dist[:10],\n",
    "    pd.DataFrame({\n",
    "        'lang_iso': ['oth'], \n",
    "        'lang_name': 'Other languages', \n",
    "        'count': lang_dist[11:]['count'].sum()\n",
    "    })\n",
    "], ignore_index=True)\n",
    "\n",
    "plot_pie_graph(\n",
    "    x=lang_dist_graph['lang_name'],\n",
    "    y=lang_dist_graph['count'],\n",
    "    title='Top 10 languages distribution on DarkLyrics.com',\n",
    "    figsize=(8, 8), \n",
    "    labels=list(lang_dist_graph['lang_name']), \n",
    "    labeldistance=0,\n",
    "    pctdistance=10\n",
    ")\n"
   ]
  },
  {
   "cell_type": "code",
   "execution_count": 9,
   "metadata": {},
   "outputs": [
    {
     "data": {
      "text/markdown": [
       "**EXAMPLES OF SONGS IN LATIN**"
      ],
      "text/plain": [
       "<IPython.core.display.Markdown object>"
      ]
     },
     "metadata": {},
     "output_type": "display_data"
    },
    {
     "data": {
      "text/markdown": [
       "---"
      ],
      "text/plain": [
       "<IPython.core.display.Markdown object>"
      ]
     },
     "metadata": {},
     "output_type": "display_data"
    },
    {
     "data": {
      "text/html": [
       "<table border=\"1\" class=\"dataframe\">\n",
       "  <thead>\n",
       "    <tr style=\"text-align: right;\">\n",
       "      <th></th>\n",
       "      <th>artist</th>\n",
       "      <th>album</th>\n",
       "      <th>album_type</th>\n",
       "      <th>release_year</th>\n",
       "      <th>title</th>\n",
       "      <th>track_no</th>\n",
       "      <th>lyrics</th>\n",
       "      <th>lang_iso</th>\n",
       "      <th>lang_name</th>\n",
       "    </tr>\n",
       "  </thead>\n",
       "  <tbody>\n",
       "    <tr>\n",
       "      <th>162632</th>\n",
       "      <td>Penumbra</td>\n",
       "      <td>The Last Bewitchment</td>\n",
       "      <td>Studio</td>\n",
       "      <td>2002</td>\n",
       "      <td>Pie Jesu</td>\n",
       "      <td>9</td>\n",
       "      <td>Pie Jesu domine\\nDona eis requiem\\nDies irae dies illa\\nSolvet saeclum in favilla\\nTeste David cum Sybilla\\nTuba mirum spargen sonum\\nPer sepulcra regionum\\nCoget omnes ante thronum\\nLiber scriptus proferetur\\nIn quo totum continetur\\nUnde mundus Judicetur\\nRex Tremendae majestetis\\nFlammis accribu addictis\\nVoca me cum benedictis\\nOro supplex et acclinis\\nCor contritum quasi cinis\\nGere curan mei finis\\nLacrimosa dies illa\\nQua resurget ex favilla\\nJudicandos homo reus\\nHuic ergo perce deus\\nPie jesu dona eis requiem</td>\n",
       "      <td>lat</td>\n",
       "      <td>Latin</td>\n",
       "    </tr>\n",
       "    <tr>\n",
       "      <th>128826</th>\n",
       "      <td>Luca Turilli'S Rhapsody</td>\n",
       "      <td>Prometheus, Symphonia Ignis Divinus</td>\n",
       "      <td>Studio</td>\n",
       "      <td>2015</td>\n",
       "      <td>Nova Genesis (Ad Splendorem Angeli Triumphantis)</td>\n",
       "      <td>1</td>\n",
       "      <td>\"We are not human beings having a spiritual experience.\\nWe are spiritual beings having a human experience\"\\n\\n\"Exurgat Deus et fiat lux in tenebris\\nStellarum Veritas, nova genesis\"\\n\\nVade accipe librum apertum\\nDe manu angeli stantis\\nSupra mare et supra terram\\n\\nDeus exurgat\\nEt dissipentur inimici ejus\\nEt fugiant qui oderunt eum a cacie ejus\\nSicut fluit cera a facie ignis\\nSic pereant peccatores a facie Dei\\n\\nDeus exurgat\\nEt dissipentur inimici ejus\\nEt fugiant qui oderunt eum a cacie ejus\\n\\nSacra vis, lux in tenebris, nova genesis\\nSicut fluit cera a facie ignis\\nSic pereant peccatores nunc a facie Dei\\n\\nAlpha, Alpha et Omega\\nFiat lux et tenebra\\nSacra vis, nova genesis</td>\n",
       "      <td>lat</td>\n",
       "      <td>Latin</td>\n",
       "    </tr>\n",
       "    <tr>\n",
       "      <th>77157</th>\n",
       "      <td>Epica</td>\n",
       "      <td>The Holographic Principle</td>\n",
       "      <td>Studio</td>\n",
       "      <td>2016</td>\n",
       "      <td>Eidola</td>\n",
       "      <td>1</td>\n",
       "      <td>Idolam kwam creamus alimus, oramus\\nFerimur simulacris fictis antiquis et futuris\\n\\nOmnia solent fieri\\nHoc tempore atque nunc et semper\\n\\nFictie fallimur, non vivimus sine mora\\nElimina illecebras fugantes nos\\n\\nVaca a timore et tempore\\n\\nAnimam libera nunc\\nUt liberes te a tempore et abs timore\\nTu solus eo modo facturus et veritatem semper tuam</td>\n",
       "      <td>lat</td>\n",
       "      <td>Latin</td>\n",
       "    </tr>\n",
       "    <tr>\n",
       "      <th>31076</th>\n",
       "      <td>Blackmass</td>\n",
       "      <td>Diablical Ritual</td>\n",
       "      <td>Demo</td>\n",
       "      <td>2002</td>\n",
       "      <td>Invocatio Mallum (Call Upon The Evil)</td>\n",
       "      <td>1</td>\n",
       "      <td>Gelida ventus secare intus niger saltus\\nAuctus luna refulgere id niger vultus\\nSanguis ex donum virgo fervefacere in Ahenum\\nEt in ara id summus dominus tenebrae benedicere\\n...nobis...\\nIn quinque hominis nobis occludere id quinque acuminis\\nAc sicut donum virgo juvenil eam Satanas\\nNon sine id sanctus pugio ego tolere manus caellum\\nAc profere verbum ex odium affinis invocare dei\\n...sopire Inferna...\\nSatanas, Luciferi, Leviatan ac Belial\\nAudire nostrum precum\\nNobis invocare prave\\nNobis invocare prave\\nNobis invocare prave\\nNobis invocare ad regnare\\nLuciferi archangelux dei Inferni\\nNobis tuus suplicare\\nNobis tuus ordinare\\nQui advenire, qui revocatus\\nErga nobis oculus et mostrare tuus horribilis fácies\\nAdvenire, venire, ego vocare\\nVenire tenebrae Princeps\\nRevocatus tuus exercitus, cinis uti is magnum rex\\nPenetralium in nostrum animus uti nobis\\nTuus glorificare creare nobis corpus\\nTuus summus domicilium\\nInvocatio erga umbra Dominus\\nCall upon the Evil...</td>\n",
       "      <td>lat</td>\n",
       "      <td>Latin</td>\n",
       "    </tr>\n",
       "    <tr>\n",
       "      <th>168864</th>\n",
       "      <td>Qntal</td>\n",
       "      <td>Qntal VI: Translucida</td>\n",
       "      <td>Studio</td>\n",
       "      <td>2008</td>\n",
       "      <td>Glacies</td>\n",
       "      <td>6</td>\n",
       "      <td>Cedit, hiems, tua durities;\\nFrigor abit, rigor et glacies\\nBrumalis et feritas, rabies,\\nTorpor et improba segnities.\\n\\nVeris adest elegans acies,\\nClara nitet sine nube dies,\\nNocte micant Pliadum facies;\\nGrata datur modo temperies.\\n\\nEst pura mundi superficies,\\nGramine redolent planities,\\nInduitur foliis abies,\\nPicta canit volucrum series,\\nPrata virent, iuvenum requies.\\n\\nNunc, Amor aureus, advenies,\\nIndomitos tibi subicies.\\nTendo manus; michi quid facies?\\nQuam dederas, rogo, concilies.\\n\\nEst pura mundi superficies,\\nGramine redolent planities,\\nInduitur foliis abies,\\nPicta canit volucrum series,\\nPrata virent, iuvenum requies</td>\n",
       "      <td>lat</td>\n",
       "      <td>Latin</td>\n",
       "    </tr>\n",
       "  </tbody>\n",
       "</table>"
      ],
      "text/plain": [
       "<IPython.core.display.HTML object>"
      ]
     },
     "metadata": {},
     "output_type": "display_data"
    }
   ],
   "source": [
    "songs_in_latin = dataset_df[dataset_df.lang_iso.str.lower() == 'lat'].sample(n=5, random_state=100)\n",
    "\n",
    "printmd(\"**EXAMPLES OF SONGS IN LATIN**\")\n",
    "printmd(\"---\")\n",
    "display(HTML(songs_in_latin.to_html()))"
   ]
  },
  {
   "cell_type": "markdown",
   "metadata": {},
   "source": [
    "## Quantities: about popularity\n",
    "\n",
    "Statistics about the most represented bands in the dataset in terms of:\n",
    "\n",
    "- Quantity of songs per band;\n",
    "- Quantity of albums per band;"
   ]
  },
  {
   "cell_type": "code",
   "execution_count": 10,
   "metadata": {
    "scrolled": false
   },
   "outputs": [
    {
     "data": {
      "image/png": "[encoded data removed]",
      "text/plain": [
       "<Figure size 1080x288 with 1 Axes>"
      ]
     },
     "metadata": {
      "needs_background": "light"
     },
     "output_type": "display_data"
    },
    {
     "data": {
      "image/png": "[encoded data removed]",
      "text/plain": [
       "<Figure size 1080x288 with 1 Axes>"
      ]
     },
     "metadata": {
      "needs_background": "light"
     },
     "output_type": "display_data"
    }
   ],
   "source": [
    "songs_bands_dist = dataset_df.groupby('artist')['artist'].count().reset_index(name='count').sort_values(['count'], ascending=False)\n",
    "\n",
    "albums_bands_dist = albums_dist.loc[albums_dist[\"album_type\"].str.lower() == 'studio']\n",
    "albums_bands_dist = albums_dist.groupby(['artist'])['artist'].count().reset_index(name='count').sort_values(['count'], ascending=False)\n",
    "\n",
    "\n",
    "\n",
    "plot_horizontal_bars(\n",
    "    songs_bands_dist[:10].sort_values(['count'], ascending=True),\n",
    "    x='artist',\n",
    "    xlabel='No. songs',\n",
    "    y='count',\n",
    "    ylabel='Artists',\n",
    "    figsize=(15, 4),\n",
    "    title='Top 10 bands in songs distribution on dataset',\n",
    "    values_offset=8\n",
    ")\n",
    "\n",
    "plot_horizontal_bars(\n",
    "    albums_bands_dist[:10].sort_values(['count'], ascending=True),\n",
    "    x='artist',\n",
    "    xlabel='No. albums',\n",
    "    y='count',\n",
    "    ylabel='Artists',\n",
    "    figsize=(15, 4),\n",
    "    title='Top 10 bands in albums distribution on dataset',\n",
    "    values_offset=.5\n",
    ")"
   ]
  },
  {
   "cell_type": "code",
   "execution_count": null,
   "metadata": {
    "scrolled": true
   },
   "outputs": [],
   "source": []
  }
 ],
 "metadata": {
  "kernelspec": {
   "display_name": "Python 3",
   "language": "python",
   "name": "python3"
  },
  "language_info": {
   "codemirror_mode": {
    "name": "ipython",
    "version": 3
   },
   "file_extension": ".py",
   "mimetype": "text/x-python",
   "name": "python",
   "nbconvert_exporter": "python",
   "pygments_lexer": "ipython3",
   "version": "3.6.10"
  }
 },
 "nbformat": 4,
 "nbformat_minor": 2
}
